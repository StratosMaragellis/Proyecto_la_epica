{
 "cells": [
  {
   "cell_type": "code",
   "execution_count": null,
   "id": "f2e6596f",
   "metadata": {},
   "outputs": [],
   "source": [
    "# Determinar cual sería la inversión con mayor ROI entre alquilar \n",
    "# un piso por días en plataformas de hosting o alquiler mensual en Alicante"
   ]
  },
  {
   "cell_type": "code",
   "execution_count": null,
   "id": "d7df161b",
   "metadata": {},
   "outputs": [],
   "source": [
    "#Pasos a ejecutar\n",
    "\n",
    "#Obtener data para poder trabajar.\n",
    "#scrapearé pag web hometogo.es para obtener data de alquiler dia a dia\n",
    "#scrapearé pag web enalquiler.com para obtener data de alquiler mensual\n",
    "#Unir tablas, limpiar data para que las dos tablas muestren información bajo los mismos parámetros\n",
    "#Análisis exploratorio de los datos, con el objetivo de encontrar relaciones, patrones, etc... \n",
    "#que nos ayuden sacar alguna conclusión o plantear hipótesis sobre nuestros datos\n",
    "#Graficar"
   ]
  },
  {
   "cell_type": "code",
   "execution_count": null,
   "id": "6e24c89c",
   "metadata": {},
   "outputs": [],
   "source": [
    "#scrapear hometogo.es"
   ]
  },
  {
   "cell_type": "code",
   "execution_count": 43,
   "id": "4d6a3fb5",
   "metadata": {},
   "outputs": [
    {
     "name": "stdout",
     "output_type": "stream",
     "text": [
      "Requirement already satisfied: webdriver-manager in /home/sm/miniconda3/envs/gamma/lib/python3.11/site-packages (3.8.6)\n",
      "Requirement already satisfied: requests in /home/sm/miniconda3/envs/gamma/lib/python3.11/site-packages (from webdriver-manager) (2.29.0)\n",
      "Requirement already satisfied: python-dotenv in /home/sm/miniconda3/envs/gamma/lib/python3.11/site-packages (from webdriver-manager) (1.0.0)\n",
      "Requirement already satisfied: tqdm in /home/sm/miniconda3/envs/gamma/lib/python3.11/site-packages (from webdriver-manager) (4.65.0)\n",
      "Requirement already satisfied: packaging in /home/sm/miniconda3/envs/gamma/lib/python3.11/site-packages (from webdriver-manager) (23.0)\n",
      "Requirement already satisfied: charset-normalizer<4,>=2 in /home/sm/miniconda3/envs/gamma/lib/python3.11/site-packages (from requests->webdriver-manager) (2.0.4)\n",
      "Requirement already satisfied: idna<4,>=2.5 in /home/sm/miniconda3/envs/gamma/lib/python3.11/site-packages (from requests->webdriver-manager) (3.4)\n",
      "Requirement already satisfied: urllib3<1.27,>=1.21.1 in /home/sm/miniconda3/envs/gamma/lib/python3.11/site-packages (from requests->webdriver-manager) (1.26.15)\n",
      "Requirement already satisfied: certifi>=2017.4.17 in /home/sm/miniconda3/envs/gamma/lib/python3.11/site-packages (from requests->webdriver-manager) (2023.5.7)\n",
      "Note: you may need to restart the kernel to use updated packages.\n"
     ]
    }
   ],
   "source": [
    "pip install webdriver-manager\n",
    "pip install beautifulsoup4\n",
    "pip install webdriver-manager"
   ]
  },
  {
   "cell_type": "code",
   "execution_count": 62,
   "id": "8978cbd0",
   "metadata": {},
   "outputs": [
    {
     "name": "stdout",
     "output_type": "stream",
     "text": [
      "Requirement already satisfied: webdriver-manager in /home/sm/miniconda3/envs/gamma/lib/python3.11/site-packages (3.8.6)\n",
      "Requirement already satisfied: requests in /home/sm/miniconda3/envs/gamma/lib/python3.11/site-packages (from webdriver-manager) (2.29.0)\n",
      "Requirement already satisfied: python-dotenv in /home/sm/miniconda3/envs/gamma/lib/python3.11/site-packages (from webdriver-manager) (1.0.0)\n",
      "Requirement already satisfied: tqdm in /home/sm/miniconda3/envs/gamma/lib/python3.11/site-packages (from webdriver-manager) (4.65.0)\n",
      "Requirement already satisfied: packaging in /home/sm/miniconda3/envs/gamma/lib/python3.11/site-packages (from webdriver-manager) (23.0)\n",
      "Requirement already satisfied: charset-normalizer<4,>=2 in /home/sm/miniconda3/envs/gamma/lib/python3.11/site-packages (from requests->webdriver-manager) (2.0.4)\n",
      "Requirement already satisfied: idna<4,>=2.5 in /home/sm/miniconda3/envs/gamma/lib/python3.11/site-packages (from requests->webdriver-manager) (3.4)\n",
      "Requirement already satisfied: urllib3<1.27,>=1.21.1 in /home/sm/miniconda3/envs/gamma/lib/python3.11/site-packages (from requests->webdriver-manager) (1.26.15)\n",
      "Requirement already satisfied: certifi>=2017.4.17 in /home/sm/miniconda3/envs/gamma/lib/python3.11/site-packages (from requests->webdriver-manager) (2023.5.7)\n",
      "Note: you may need to restart the kernel to use updated packages.\n"
     ]
    }
   ],
   "source": [
    "pip install webdriver-manager"
   ]
  },
  {
   "cell_type": "code",
   "execution_count": 88,
   "id": "9674f85c",
   "metadata": {},
   "outputs": [],
   "source": [
    "#Librerías\n",
    "\n",
    "import pandas as pd\n",
    "import requests as req\n",
    "from bs4 import BeautifulSoup as bs"
   ]
  },
  {
   "cell_type": "code",
   "execution_count": 68,
   "id": "3692edfa",
   "metadata": {},
   "outputs": [],
   "source": [
    "from selenium import webdriver\n",
    "from webdriver_manager.chrome import ChromeDriverManager\n",
    "from selenium.webdriver.support.ui import WebDriverWait #le da tiempo a la página para que cargue\n",
    "from selenium.webdriver.support import expected_conditions\n",
    "from selenium.webdriver.common.by import By\n",
    "import time\n",
    "from selenium.webdriver.chrome.options import Options"
   ]
  },
  {
   "cell_type": "code",
   "execution_count": 91,
   "id": "56b2a2b7",
   "metadata": {},
   "outputs": [
    {
     "name": "stdout",
     "output_type": "stream",
     "text": [
      "Ocurrió un error al procesar el ID 2: 'NoneType' object has no attribute 'text'\n",
      "Ocurrió un error al procesar el ID 3: 'NoneType' object has no attribute 'text'\n",
      "Ocurrió un error al procesar el ID 4: 'NoneType' object has no attribute 'text'\n",
      "Ocurrió un error al procesar el ID 5: 'NoneType' object has no attribute 'text'\n",
      "Ocurrió un error al procesar el ID 6: 'NoneType' object has no attribute 'text'\n",
      "Ocurrió un error al procesar el ID 7: 'NoneType' object has no attribute 'text'\n",
      "Ocurrió un error al procesar el ID 8: 'NoneType' object has no attribute 'text'\n",
      "Ocurrió un error al procesar el ID 9: 'NoneType' object has no attribute 'text'\n",
      "Ocurrió un error al procesar el ID 10: 'NoneType' object has no attribute 'text'\n",
      "Ocurrió un error al procesar el ID 11: 'NoneType' object has no attribute 'text'\n",
      "Ocurrió un error al procesar el ID 12: 'NoneType' object has no attribute 'text'\n",
      "Ocurrió un error al procesar el ID 13: 'NoneType' object has no attribute 'text'\n",
      "Ocurrió un error al procesar el ID 14: 'NoneType' object has no attribute 'text'\n",
      "Ocurrió un error al procesar el ID 15: 'NoneType' object has no attribute 'text'\n",
      "Ocurrió un error al procesar el ID 16: 'NoneType' object has no attribute 'text'\n",
      "Ocurrió un error al procesar el ID 17: 'NoneType' object has no attribute 'text'\n",
      "Ocurrió un error al procesar el ID 18: 'NoneType' object has no attribute 'text'\n",
      "Ocurrió un error al procesar el ID 19: 'NoneType' object has no attribute 'text'\n",
      "Ocurrió un error al procesar el ID 20: 'NoneType' object has no attribute 'text'\n",
      "Ocurrió un error al procesar el ID 21: 'NoneType' object has no attribute 'text'\n",
      "Ocurrió un error al procesar el ID 22: 'NoneType' object has no attribute 'text'\n",
      "Ocurrió un error al procesar el ID 23: 'NoneType' object has no attribute 'text'\n",
      "Ocurrió un error al procesar el ID 24: 'NoneType' object has no attribute 'text'\n",
      "Ocurrió un error al procesar el ID 25: 'NoneType' object has no attribute 'text'\n",
      "Ocurrió un error al procesar el ID 26: 'NoneType' object has no attribute 'text'\n",
      "Ocurrió un error al procesar el ID 27: 'NoneType' object has no attribute 'text'\n",
      "Ocurrió un error al procesar el ID 28: 'NoneType' object has no attribute 'text'\n",
      "Ocurrió un error al procesar el ID 29: 'NoneType' object has no attribute 'text'\n",
      "Ocurrió un error al procesar el ID 30: 'NoneType' object has no attribute 'text'\n",
      "Ocurrió un error al procesar el ID 31: 'NoneType' object has no attribute 'text'\n",
      "Ocurrió un error al procesar el ID 32: 'NoneType' object has no attribute 'text'\n",
      "Ocurrió un error al procesar el ID 33: 'NoneType' object has no attribute 'text'\n",
      "Ocurrió un error al procesar el ID 34: 'NoneType' object has no attribute 'text'\n",
      "Ocurrió un error al procesar el ID 35: 'NoneType' object has no attribute 'text'\n",
      "Ocurrió un error al procesar el ID 36: 'NoneType' object has no attribute 'text'\n",
      "Ocurrió un error al procesar el ID 37: 'NoneType' object has no attribute 'text'\n",
      "Ocurrió un error al procesar el ID 38: 'NoneType' object has no attribute 'text'\n",
      "Ocurrió un error al procesar el ID 39: 'NoneType' object has no attribute 'text'\n",
      "Ocurrió un error al procesar el ID 40: 'NoneType' object has no attribute 'text'\n",
      "Ocurrió un error al procesar el ID 41: 'NoneType' object has no attribute 'text'\n",
      "Ocurrió un error al procesar el ID 42: 'NoneType' object has no attribute 'text'\n",
      "Ocurrió un error al procesar el ID 43: 'NoneType' object has no attribute 'text'\n",
      "Ocurrió un error al procesar el ID 44: 'NoneType' object has no attribute 'text'\n",
      "Ocurrió un error al procesar el ID 45: 'NoneType' object has no attribute 'text'\n",
      "Ocurrió un error al procesar el ID 46: 'NoneType' object has no attribute 'text'\n",
      "Ocurrió un error al procesar el ID 47: HTTPSConnectionPool(host='www.enalquiler.com', port=443): Max retries exceeded with url: /alquiler-pisos-alicante-alacant_3_2/47 (Caused by NewConnectionError('<urllib3.connection.HTTPSConnection object at 0x7f5907bce2d0>: Failed to establish a new connection: [Errno -3] Temporary failure in name resolution'))\n",
      "Ocurrió un error al procesar el ID 48: 'NoneType' object has no attribute 'text'\n",
      "Ocurrió un error al procesar el ID 49: 'NoneType' object has no attribute 'text'\n",
      "Ocurrió un error al procesar el ID 50: 'NoneType' object has no attribute 'text'\n",
      "Ocurrió un error al procesar el ID 51: 'NoneType' object has no attribute 'text'\n",
      "Ocurrió un error al procesar el ID 52: 'NoneType' object has no attribute 'text'\n",
      "Ocurrió un error al procesar el ID 53: 'NoneType' object has no attribute 'text'\n",
      "Ocurrió un error al procesar el ID 54: 'NoneType' object has no attribute 'text'\n",
      "Ocurrió un error al procesar el ID 55: 'NoneType' object has no attribute 'text'\n",
      "Ocurrió un error al procesar el ID 56: 'NoneType' object has no attribute 'text'\n",
      "Ocurrió un error al procesar el ID 57: 'NoneType' object has no attribute 'text'\n",
      "Ocurrió un error al procesar el ID 58: 'NoneType' object has no attribute 'text'\n",
      "Ocurrió un error al procesar el ID 59: 'NoneType' object has no attribute 'text'\n",
      "Ocurrió un error al procesar el ID 60: 'NoneType' object has no attribute 'text'\n",
      "Ocurrió un error al procesar el ID 61: 'NoneType' object has no attribute 'text'\n",
      "Ocurrió un error al procesar el ID 62: 'NoneType' object has no attribute 'text'\n",
      "Ocurrió un error al procesar el ID 63: 'NoneType' object has no attribute 'text'\n",
      "Ocurrió un error al procesar el ID 64: 'NoneType' object has no attribute 'text'\n",
      "Ocurrió un error al procesar el ID 65: 'NoneType' object has no attribute 'text'\n",
      "Ocurrió un error al procesar el ID 66: 'NoneType' object has no attribute 'text'\n"
     ]
    },
    {
     "ename": "KeyboardInterrupt",
     "evalue": "",
     "output_type": "error",
     "traceback": [
      "\u001b[0;31m---------------------------------------------------------------------------\u001b[0m",
      "\u001b[0;31mKeyboardInterrupt\u001b[0m                         Traceback (most recent call last)",
      "Cell \u001b[0;32mIn[91], line 7\u001b[0m\n\u001b[1;32m      5\u001b[0m \u001b[38;5;28;01mtry\u001b[39;00m:\n\u001b[1;32m      6\u001b[0m     url \u001b[38;5;241m=\u001b[39m \u001b[38;5;124mf\u001b[39m\u001b[38;5;124m\"\u001b[39m\u001b[38;5;124mhttps://www.enalquiler.com/alquiler-pisos-alicante-alacant_3_2/\u001b[39m\u001b[38;5;132;01m{\u001b[39;00mid_alquiler\u001b[38;5;132;01m}\u001b[39;00m\u001b[38;5;124m\"\u001b[39m\n\u001b[0;32m----> 7\u001b[0m     response \u001b[38;5;241m=\u001b[39m req\u001b[38;5;241m.\u001b[39mget(url)\n\u001b[1;32m      8\u001b[0m     \u001b[38;5;28;01mif\u001b[39;00m response\u001b[38;5;241m.\u001b[39mstatus_code \u001b[38;5;241m==\u001b[39m \u001b[38;5;241m200\u001b[39m:\n\u001b[1;32m      9\u001b[0m         page \u001b[38;5;241m=\u001b[39m response\u001b[38;5;241m.\u001b[39mcontent\n",
      "File \u001b[0;32m~/miniconda3/envs/gamma/lib/python3.11/site-packages/requests/api.py:73\u001b[0m, in \u001b[0;36mget\u001b[0;34m(url, params, **kwargs)\u001b[0m\n\u001b[1;32m     62\u001b[0m \u001b[38;5;28;01mdef\u001b[39;00m \u001b[38;5;21mget\u001b[39m(url, params\u001b[38;5;241m=\u001b[39m\u001b[38;5;28;01mNone\u001b[39;00m, \u001b[38;5;241m*\u001b[39m\u001b[38;5;241m*\u001b[39mkwargs):\n\u001b[1;32m     63\u001b[0m     \u001b[38;5;124mr\u001b[39m\u001b[38;5;124;03m\"\"\"Sends a GET request.\u001b[39;00m\n\u001b[1;32m     64\u001b[0m \n\u001b[1;32m     65\u001b[0m \u001b[38;5;124;03m    :param url: URL for the new :class:`Request` object.\u001b[39;00m\n\u001b[0;32m   (...)\u001b[0m\n\u001b[1;32m     70\u001b[0m \u001b[38;5;124;03m    :rtype: requests.Response\u001b[39;00m\n\u001b[1;32m     71\u001b[0m \u001b[38;5;124;03m    \"\"\"\u001b[39;00m\n\u001b[0;32m---> 73\u001b[0m     \u001b[38;5;28;01mreturn\u001b[39;00m request(\u001b[38;5;124m\"\u001b[39m\u001b[38;5;124mget\u001b[39m\u001b[38;5;124m\"\u001b[39m, url, params\u001b[38;5;241m=\u001b[39mparams, \u001b[38;5;241m*\u001b[39m\u001b[38;5;241m*\u001b[39mkwargs)\n",
      "File \u001b[0;32m~/miniconda3/envs/gamma/lib/python3.11/site-packages/requests/api.py:59\u001b[0m, in \u001b[0;36mrequest\u001b[0;34m(method, url, **kwargs)\u001b[0m\n\u001b[1;32m     55\u001b[0m \u001b[38;5;66;03m# By using the 'with' statement we are sure the session is closed, thus we\u001b[39;00m\n\u001b[1;32m     56\u001b[0m \u001b[38;5;66;03m# avoid leaving sockets open which can trigger a ResourceWarning in some\u001b[39;00m\n\u001b[1;32m     57\u001b[0m \u001b[38;5;66;03m# cases, and look like a memory leak in others.\u001b[39;00m\n\u001b[1;32m     58\u001b[0m \u001b[38;5;28;01mwith\u001b[39;00m sessions\u001b[38;5;241m.\u001b[39mSession() \u001b[38;5;28;01mas\u001b[39;00m session:\n\u001b[0;32m---> 59\u001b[0m     \u001b[38;5;28;01mreturn\u001b[39;00m session\u001b[38;5;241m.\u001b[39mrequest(method\u001b[38;5;241m=\u001b[39mmethod, url\u001b[38;5;241m=\u001b[39murl, \u001b[38;5;241m*\u001b[39m\u001b[38;5;241m*\u001b[39mkwargs)\n",
      "File \u001b[0;32m~/miniconda3/envs/gamma/lib/python3.11/site-packages/requests/sessions.py:587\u001b[0m, in \u001b[0;36mSession.request\u001b[0;34m(self, method, url, params, data, headers, cookies, files, auth, timeout, allow_redirects, proxies, hooks, stream, verify, cert, json)\u001b[0m\n\u001b[1;32m    582\u001b[0m send_kwargs \u001b[38;5;241m=\u001b[39m {\n\u001b[1;32m    583\u001b[0m     \u001b[38;5;124m\"\u001b[39m\u001b[38;5;124mtimeout\u001b[39m\u001b[38;5;124m\"\u001b[39m: timeout,\n\u001b[1;32m    584\u001b[0m     \u001b[38;5;124m\"\u001b[39m\u001b[38;5;124mallow_redirects\u001b[39m\u001b[38;5;124m\"\u001b[39m: allow_redirects,\n\u001b[1;32m    585\u001b[0m }\n\u001b[1;32m    586\u001b[0m send_kwargs\u001b[38;5;241m.\u001b[39mupdate(settings)\n\u001b[0;32m--> 587\u001b[0m resp \u001b[38;5;241m=\u001b[39m \u001b[38;5;28mself\u001b[39m\u001b[38;5;241m.\u001b[39msend(prep, \u001b[38;5;241m*\u001b[39m\u001b[38;5;241m*\u001b[39msend_kwargs)\n\u001b[1;32m    589\u001b[0m \u001b[38;5;28;01mreturn\u001b[39;00m resp\n",
      "File \u001b[0;32m~/miniconda3/envs/gamma/lib/python3.11/site-packages/requests/sessions.py:701\u001b[0m, in \u001b[0;36mSession.send\u001b[0;34m(self, request, **kwargs)\u001b[0m\n\u001b[1;32m    698\u001b[0m start \u001b[38;5;241m=\u001b[39m preferred_clock()\n\u001b[1;32m    700\u001b[0m \u001b[38;5;66;03m# Send the request\u001b[39;00m\n\u001b[0;32m--> 701\u001b[0m r \u001b[38;5;241m=\u001b[39m adapter\u001b[38;5;241m.\u001b[39msend(request, \u001b[38;5;241m*\u001b[39m\u001b[38;5;241m*\u001b[39mkwargs)\n\u001b[1;32m    703\u001b[0m \u001b[38;5;66;03m# Total elapsed time of the request (approximately)\u001b[39;00m\n\u001b[1;32m    704\u001b[0m elapsed \u001b[38;5;241m=\u001b[39m preferred_clock() \u001b[38;5;241m-\u001b[39m start\n",
      "File \u001b[0;32m~/miniconda3/envs/gamma/lib/python3.11/site-packages/requests/adapters.py:487\u001b[0m, in \u001b[0;36mHTTPAdapter.send\u001b[0;34m(self, request, stream, timeout, verify, cert, proxies)\u001b[0m\n\u001b[1;32m    484\u001b[0m     timeout \u001b[38;5;241m=\u001b[39m TimeoutSauce(connect\u001b[38;5;241m=\u001b[39mtimeout, read\u001b[38;5;241m=\u001b[39mtimeout)\n\u001b[1;32m    486\u001b[0m \u001b[38;5;28;01mtry\u001b[39;00m:\n\u001b[0;32m--> 487\u001b[0m     resp \u001b[38;5;241m=\u001b[39m conn\u001b[38;5;241m.\u001b[39murlopen(\n\u001b[1;32m    488\u001b[0m         method\u001b[38;5;241m=\u001b[39mrequest\u001b[38;5;241m.\u001b[39mmethod,\n\u001b[1;32m    489\u001b[0m         url\u001b[38;5;241m=\u001b[39murl,\n\u001b[1;32m    490\u001b[0m         body\u001b[38;5;241m=\u001b[39mrequest\u001b[38;5;241m.\u001b[39mbody,\n\u001b[1;32m    491\u001b[0m         headers\u001b[38;5;241m=\u001b[39mrequest\u001b[38;5;241m.\u001b[39mheaders,\n\u001b[1;32m    492\u001b[0m         redirect\u001b[38;5;241m=\u001b[39m\u001b[38;5;28;01mFalse\u001b[39;00m,\n\u001b[1;32m    493\u001b[0m         assert_same_host\u001b[38;5;241m=\u001b[39m\u001b[38;5;28;01mFalse\u001b[39;00m,\n\u001b[1;32m    494\u001b[0m         preload_content\u001b[38;5;241m=\u001b[39m\u001b[38;5;28;01mFalse\u001b[39;00m,\n\u001b[1;32m    495\u001b[0m         decode_content\u001b[38;5;241m=\u001b[39m\u001b[38;5;28;01mFalse\u001b[39;00m,\n\u001b[1;32m    496\u001b[0m         retries\u001b[38;5;241m=\u001b[39m\u001b[38;5;28mself\u001b[39m\u001b[38;5;241m.\u001b[39mmax_retries,\n\u001b[1;32m    497\u001b[0m         timeout\u001b[38;5;241m=\u001b[39mtimeout,\n\u001b[1;32m    498\u001b[0m         chunked\u001b[38;5;241m=\u001b[39mchunked,\n\u001b[1;32m    499\u001b[0m     )\n\u001b[1;32m    501\u001b[0m \u001b[38;5;28;01mexcept\u001b[39;00m (ProtocolError, \u001b[38;5;167;01mOSError\u001b[39;00m) \u001b[38;5;28;01mas\u001b[39;00m err:\n\u001b[1;32m    502\u001b[0m     \u001b[38;5;28;01mraise\u001b[39;00m \u001b[38;5;167;01mConnectionError\u001b[39;00m(err, request\u001b[38;5;241m=\u001b[39mrequest)\n",
      "File \u001b[0;32m~/miniconda3/envs/gamma/lib/python3.11/site-packages/urllib3/connectionpool.py:703\u001b[0m, in \u001b[0;36mHTTPConnectionPool.urlopen\u001b[0;34m(self, method, url, body, headers, retries, redirect, assert_same_host, timeout, pool_timeout, release_conn, chunked, body_pos, **response_kw)\u001b[0m\n\u001b[1;32m    700\u001b[0m     \u001b[38;5;28mself\u001b[39m\u001b[38;5;241m.\u001b[39m_prepare_proxy(conn)\n\u001b[1;32m    702\u001b[0m \u001b[38;5;66;03m# Make the request on the httplib connection object.\u001b[39;00m\n\u001b[0;32m--> 703\u001b[0m httplib_response \u001b[38;5;241m=\u001b[39m \u001b[38;5;28mself\u001b[39m\u001b[38;5;241m.\u001b[39m_make_request(\n\u001b[1;32m    704\u001b[0m     conn,\n\u001b[1;32m    705\u001b[0m     method,\n\u001b[1;32m    706\u001b[0m     url,\n\u001b[1;32m    707\u001b[0m     timeout\u001b[38;5;241m=\u001b[39mtimeout_obj,\n\u001b[1;32m    708\u001b[0m     body\u001b[38;5;241m=\u001b[39mbody,\n\u001b[1;32m    709\u001b[0m     headers\u001b[38;5;241m=\u001b[39mheaders,\n\u001b[1;32m    710\u001b[0m     chunked\u001b[38;5;241m=\u001b[39mchunked,\n\u001b[1;32m    711\u001b[0m )\n\u001b[1;32m    713\u001b[0m \u001b[38;5;66;03m# If we're going to release the connection in ``finally:``, then\u001b[39;00m\n\u001b[1;32m    714\u001b[0m \u001b[38;5;66;03m# the response doesn't need to know about the connection. Otherwise\u001b[39;00m\n\u001b[1;32m    715\u001b[0m \u001b[38;5;66;03m# it will also try to release it and we'll have a double-release\u001b[39;00m\n\u001b[1;32m    716\u001b[0m \u001b[38;5;66;03m# mess.\u001b[39;00m\n\u001b[1;32m    717\u001b[0m response_conn \u001b[38;5;241m=\u001b[39m conn \u001b[38;5;28;01mif\u001b[39;00m \u001b[38;5;129;01mnot\u001b[39;00m release_conn \u001b[38;5;28;01melse\u001b[39;00m \u001b[38;5;28;01mNone\u001b[39;00m\n",
      "File \u001b[0;32m~/miniconda3/envs/gamma/lib/python3.11/site-packages/urllib3/connectionpool.py:449\u001b[0m, in \u001b[0;36mHTTPConnectionPool._make_request\u001b[0;34m(self, conn, method, url, timeout, chunked, **httplib_request_kw)\u001b[0m\n\u001b[1;32m    444\u001b[0m             httplib_response \u001b[38;5;241m=\u001b[39m conn\u001b[38;5;241m.\u001b[39mgetresponse()\n\u001b[1;32m    445\u001b[0m         \u001b[38;5;28;01mexcept\u001b[39;00m \u001b[38;5;167;01mBaseException\u001b[39;00m \u001b[38;5;28;01mas\u001b[39;00m e:\n\u001b[1;32m    446\u001b[0m             \u001b[38;5;66;03m# Remove the TypeError from the exception chain in\u001b[39;00m\n\u001b[1;32m    447\u001b[0m             \u001b[38;5;66;03m# Python 3 (including for exceptions like SystemExit).\u001b[39;00m\n\u001b[1;32m    448\u001b[0m             \u001b[38;5;66;03m# Otherwise it looks like a bug in the code.\u001b[39;00m\n\u001b[0;32m--> 449\u001b[0m             six\u001b[38;5;241m.\u001b[39mraise_from(e, \u001b[38;5;28;01mNone\u001b[39;00m)\n\u001b[1;32m    450\u001b[0m \u001b[38;5;28;01mexcept\u001b[39;00m (SocketTimeout, BaseSSLError, SocketError) \u001b[38;5;28;01mas\u001b[39;00m e:\n\u001b[1;32m    451\u001b[0m     \u001b[38;5;28mself\u001b[39m\u001b[38;5;241m.\u001b[39m_raise_timeout(err\u001b[38;5;241m=\u001b[39me, url\u001b[38;5;241m=\u001b[39murl, timeout_value\u001b[38;5;241m=\u001b[39mread_timeout)\n",
      "File \u001b[0;32m<string>:3\u001b[0m, in \u001b[0;36mraise_from\u001b[0;34m(value, from_value)\u001b[0m\n",
      "File \u001b[0;32m~/miniconda3/envs/gamma/lib/python3.11/site-packages/urllib3/connectionpool.py:444\u001b[0m, in \u001b[0;36mHTTPConnectionPool._make_request\u001b[0;34m(self, conn, method, url, timeout, chunked, **httplib_request_kw)\u001b[0m\n\u001b[1;32m    441\u001b[0m \u001b[38;5;28;01mexcept\u001b[39;00m \u001b[38;5;167;01mTypeError\u001b[39;00m:\n\u001b[1;32m    442\u001b[0m     \u001b[38;5;66;03m# Python 3\u001b[39;00m\n\u001b[1;32m    443\u001b[0m     \u001b[38;5;28;01mtry\u001b[39;00m:\n\u001b[0;32m--> 444\u001b[0m         httplib_response \u001b[38;5;241m=\u001b[39m conn\u001b[38;5;241m.\u001b[39mgetresponse()\n\u001b[1;32m    445\u001b[0m     \u001b[38;5;28;01mexcept\u001b[39;00m \u001b[38;5;167;01mBaseException\u001b[39;00m \u001b[38;5;28;01mas\u001b[39;00m e:\n\u001b[1;32m    446\u001b[0m         \u001b[38;5;66;03m# Remove the TypeError from the exception chain in\u001b[39;00m\n\u001b[1;32m    447\u001b[0m         \u001b[38;5;66;03m# Python 3 (including for exceptions like SystemExit).\u001b[39;00m\n\u001b[1;32m    448\u001b[0m         \u001b[38;5;66;03m# Otherwise it looks like a bug in the code.\u001b[39;00m\n\u001b[1;32m    449\u001b[0m         six\u001b[38;5;241m.\u001b[39mraise_from(e, \u001b[38;5;28;01mNone\u001b[39;00m)\n",
      "File \u001b[0;32m~/miniconda3/envs/gamma/lib/python3.11/http/client.py:1375\u001b[0m, in \u001b[0;36mHTTPConnection.getresponse\u001b[0;34m(self)\u001b[0m\n\u001b[1;32m   1373\u001b[0m \u001b[38;5;28;01mtry\u001b[39;00m:\n\u001b[1;32m   1374\u001b[0m     \u001b[38;5;28;01mtry\u001b[39;00m:\n\u001b[0;32m-> 1375\u001b[0m         response\u001b[38;5;241m.\u001b[39mbegin()\n\u001b[1;32m   1376\u001b[0m     \u001b[38;5;28;01mexcept\u001b[39;00m \u001b[38;5;167;01mConnectionError\u001b[39;00m:\n\u001b[1;32m   1377\u001b[0m         \u001b[38;5;28mself\u001b[39m\u001b[38;5;241m.\u001b[39mclose()\n",
      "File \u001b[0;32m~/miniconda3/envs/gamma/lib/python3.11/http/client.py:318\u001b[0m, in \u001b[0;36mHTTPResponse.begin\u001b[0;34m(self)\u001b[0m\n\u001b[1;32m    316\u001b[0m \u001b[38;5;66;03m# read until we get a non-100 response\u001b[39;00m\n\u001b[1;32m    317\u001b[0m \u001b[38;5;28;01mwhile\u001b[39;00m \u001b[38;5;28;01mTrue\u001b[39;00m:\n\u001b[0;32m--> 318\u001b[0m     version, status, reason \u001b[38;5;241m=\u001b[39m \u001b[38;5;28mself\u001b[39m\u001b[38;5;241m.\u001b[39m_read_status()\n\u001b[1;32m    319\u001b[0m     \u001b[38;5;28;01mif\u001b[39;00m status \u001b[38;5;241m!=\u001b[39m CONTINUE:\n\u001b[1;32m    320\u001b[0m         \u001b[38;5;28;01mbreak\u001b[39;00m\n",
      "File \u001b[0;32m~/miniconda3/envs/gamma/lib/python3.11/http/client.py:279\u001b[0m, in \u001b[0;36mHTTPResponse._read_status\u001b[0;34m(self)\u001b[0m\n\u001b[1;32m    278\u001b[0m \u001b[38;5;28;01mdef\u001b[39;00m \u001b[38;5;21m_read_status\u001b[39m(\u001b[38;5;28mself\u001b[39m):\n\u001b[0;32m--> 279\u001b[0m     line \u001b[38;5;241m=\u001b[39m \u001b[38;5;28mstr\u001b[39m(\u001b[38;5;28mself\u001b[39m\u001b[38;5;241m.\u001b[39mfp\u001b[38;5;241m.\u001b[39mreadline(_MAXLINE \u001b[38;5;241m+\u001b[39m \u001b[38;5;241m1\u001b[39m), \u001b[38;5;124m\"\u001b[39m\u001b[38;5;124miso-8859-1\u001b[39m\u001b[38;5;124m\"\u001b[39m)\n\u001b[1;32m    280\u001b[0m     \u001b[38;5;28;01mif\u001b[39;00m \u001b[38;5;28mlen\u001b[39m(line) \u001b[38;5;241m>\u001b[39m _MAXLINE:\n\u001b[1;32m    281\u001b[0m         \u001b[38;5;28;01mraise\u001b[39;00m LineTooLong(\u001b[38;5;124m\"\u001b[39m\u001b[38;5;124mstatus line\u001b[39m\u001b[38;5;124m\"\u001b[39m)\n",
      "File \u001b[0;32m~/miniconda3/envs/gamma/lib/python3.11/socket.py:706\u001b[0m, in \u001b[0;36mSocketIO.readinto\u001b[0;34m(self, b)\u001b[0m\n\u001b[1;32m    704\u001b[0m \u001b[38;5;28;01mwhile\u001b[39;00m \u001b[38;5;28;01mTrue\u001b[39;00m:\n\u001b[1;32m    705\u001b[0m     \u001b[38;5;28;01mtry\u001b[39;00m:\n\u001b[0;32m--> 706\u001b[0m         \u001b[38;5;28;01mreturn\u001b[39;00m \u001b[38;5;28mself\u001b[39m\u001b[38;5;241m.\u001b[39m_sock\u001b[38;5;241m.\u001b[39mrecv_into(b)\n\u001b[1;32m    707\u001b[0m     \u001b[38;5;28;01mexcept\u001b[39;00m timeout:\n\u001b[1;32m    708\u001b[0m         \u001b[38;5;28mself\u001b[39m\u001b[38;5;241m.\u001b[39m_timeout_occurred \u001b[38;5;241m=\u001b[39m \u001b[38;5;28;01mTrue\u001b[39;00m\n",
      "File \u001b[0;32m~/miniconda3/envs/gamma/lib/python3.11/ssl.py:1278\u001b[0m, in \u001b[0;36mSSLSocket.recv_into\u001b[0;34m(self, buffer, nbytes, flags)\u001b[0m\n\u001b[1;32m   1274\u001b[0m     \u001b[38;5;28;01mif\u001b[39;00m flags \u001b[38;5;241m!=\u001b[39m \u001b[38;5;241m0\u001b[39m:\n\u001b[1;32m   1275\u001b[0m         \u001b[38;5;28;01mraise\u001b[39;00m \u001b[38;5;167;01mValueError\u001b[39;00m(\n\u001b[1;32m   1276\u001b[0m           \u001b[38;5;124m\"\u001b[39m\u001b[38;5;124mnon-zero flags not allowed in calls to recv_into() on \u001b[39m\u001b[38;5;132;01m%s\u001b[39;00m\u001b[38;5;124m\"\u001b[39m \u001b[38;5;241m%\u001b[39m\n\u001b[1;32m   1277\u001b[0m           \u001b[38;5;28mself\u001b[39m\u001b[38;5;241m.\u001b[39m\u001b[38;5;18m__class__\u001b[39m)\n\u001b[0;32m-> 1278\u001b[0m     \u001b[38;5;28;01mreturn\u001b[39;00m \u001b[38;5;28mself\u001b[39m\u001b[38;5;241m.\u001b[39mread(nbytes, buffer)\n\u001b[1;32m   1279\u001b[0m \u001b[38;5;28;01melse\u001b[39;00m:\n\u001b[1;32m   1280\u001b[0m     \u001b[38;5;28;01mreturn\u001b[39;00m \u001b[38;5;28msuper\u001b[39m()\u001b[38;5;241m.\u001b[39mrecv_into(buffer, nbytes, flags)\n",
      "File \u001b[0;32m~/miniconda3/envs/gamma/lib/python3.11/ssl.py:1134\u001b[0m, in \u001b[0;36mSSLSocket.read\u001b[0;34m(self, len, buffer)\u001b[0m\n\u001b[1;32m   1132\u001b[0m \u001b[38;5;28;01mtry\u001b[39;00m:\n\u001b[1;32m   1133\u001b[0m     \u001b[38;5;28;01mif\u001b[39;00m buffer \u001b[38;5;129;01mis\u001b[39;00m \u001b[38;5;129;01mnot\u001b[39;00m \u001b[38;5;28;01mNone\u001b[39;00m:\n\u001b[0;32m-> 1134\u001b[0m         \u001b[38;5;28;01mreturn\u001b[39;00m \u001b[38;5;28mself\u001b[39m\u001b[38;5;241m.\u001b[39m_sslobj\u001b[38;5;241m.\u001b[39mread(\u001b[38;5;28mlen\u001b[39m, buffer)\n\u001b[1;32m   1135\u001b[0m     \u001b[38;5;28;01melse\u001b[39;00m:\n\u001b[1;32m   1136\u001b[0m         \u001b[38;5;28;01mreturn\u001b[39;00m \u001b[38;5;28mself\u001b[39m\u001b[38;5;241m.\u001b[39m_sslobj\u001b[38;5;241m.\u001b[39mread(\u001b[38;5;28mlen\u001b[39m)\n",
      "\u001b[0;31mKeyboardInterrupt\u001b[0m: "
     ]
    }
   ],
   "source": [
    "ids_alquiler = list(range(2, 88))\n",
    "alquiler_data = []\n",
    "\n",
    "for id_alquiler in ids_alquiler:\n",
    "    try:\n",
    "        url = f\"https://www.enalquiler.com/alquiler-pisos-alicante-alacant_3_2/{id_alquiler}\"\n",
    "        response = req.get(url)\n",
    "        if response.status_code == 200:\n",
    "            page = response.content\n",
    "            soup = BeautifulSoup(page, 'html.parser')\n",
    "            \n",
    "            id_alquiler = id_alquiler\n",
    "            \n",
    "            precio_tag = soup.find('span', class_='propertyCard__price--value')\n",
    "            precio = precio_tag.text.strip()\n",
    "            \n",
    "            m2_tag = soup.find('div', class_='fa fa-size-o fa-no-margin')\n",
    "            m2 = m2_tag.text.strip()\n",
    "            \n",
    "            habitaciones = soup.find('div', class_ = 'fa fa-room-o')\n",
    "            habitaciones = habitaciones_tag.text.strip()\n",
    "            \n",
    "            baños_tag = soup.find('div', class_ = 'fa fa-bath-o')\n",
    "            baños = baños_tag.text.strip()\n",
    "            \n",
    "            zona_tag = soup.find('div', class_ = 'fa fa-map-marker')\n",
    "            zona = zona_tag.text.strip()\n",
    "            \n",
    "            num_fotos_tag = soup.find('div', class_ = 'propertyCard__imgHover--imgCount')\n",
    "            num_fotos = num_fotos_tag.text.strip()\n",
    "            \n",
    "        \n",
    "            alquiler_data.append([id_alquiler, precio, m2, habitaciones, baños, zona, num_fotos])\n",
    "        else:\n",
    "            print(f\"No se encontró la página para el ID {ids_alquiler}\")\n",
    "            \n",
    "    except Exception as e:\n",
    "        print(f\"Ocurrió un error al procesar el ID {id_alquiler}: {str(e)}\")\n",
    "\n",
    "dfteste = pd.DataFrame(alquiler_data, columns=['id_alquiler', 'precio', 'm2', 'habitaciones', 'baños', 'zona', 'num_fotos'])\n",
    "dfteste"
   ]
  },
  {
   "cell_type": "code",
   "execution_count": 79,
   "id": "002e98fd",
   "metadata": {},
   "outputs": [
    {
     "name": "stdout",
     "output_type": "stream",
     "text": [
      "Error al realizar la solicitud HTTP.\n"
     ]
    }
   ],
   "source": [
    "ids_alquiler = list(range(1, 88))\n",
    "alquiler_data = []\n",
    "\n",
    "url = f\"https://www.enalquiler.com/alquiler-pisos-alicante-alacant_3_2/{ids_alquiler}\"\n",
    "\n",
    "# Realizamos la solicitud HTTP\n",
    "response = requests.get(url)\n",
    "\n",
    "# Verificamos que la solicitud fue exitosa\n",
    "if response.status_code == 200:\n",
    "    # Parseamos el contenido HTML\n",
    "    soup = BeautifulSoup(response.content, 'html.parser')\n",
    "\n",
    "    # Encontramos todos los elementos de la lista de anuncios\n",
    "    anuncios = soup.find_all('li', class_='adlist_item')\n",
    "\n",
    "    # Iteramos sobre los anuncios y extraemos la información\n",
    "    for anuncio in anuncios:\n",
    "        # Extraemos el ID del alquiler\n",
    "        id_alquiler = anuncio['data-id']\n",
    "\n",
    "        # Extraemos el precio\n",
    "        precio = anuncio.find('span', class_='price').text.strip()\n",
    "\n",
    "        # Extraemos los metros cuadrados\n",
    "        metros_cuadrados = anuncio.find('span', class_='area').text.strip()\n",
    "\n",
    "        # Extraemos la cantidad de habitaciones\n",
    "        habitaciones = anuncio.find('span', class_='rooms').text.strip()\n",
    "\n",
    "        # Extraemos la cantidad de baños\n",
    "        banos = anuncio.find('span', class_='bathrooms').text.strip()\n",
    "\n",
    "        # Imprimimos la información obtenida\n",
    "        print(f\"ID Alquiler: {id_alquiler}\")\n",
    "        print(f\"Precio: {precio}\")\n",
    "        print(f\"Metros cuadrados: {metros_cuadrados}\")\n",
    "        print(f\"Habitaciones: {habitaciones}\")\n",
    "        print(f\"Baños: {banos}\")\n",
    "        print('---')\n",
    "\n",
    "else:\n",
    "    print('Error al realizar la solicitud HTTP.')"
   ]
  },
  {
   "cell_type": "code",
   "execution_count": 61,
   "id": "18b9b28b",
   "metadata": {},
   "outputs": [
    {
     "ename": "NameError",
     "evalue": "name 'driver' is not defined",
     "output_type": "error",
     "traceback": [
      "\u001b[0;31m---------------------------------------------------------------------------\u001b[0m",
      "\u001b[0;31mNameError\u001b[0m                                 Traceback (most recent call last)",
      "Cell \u001b[0;32mIn[61], line 1\u001b[0m\n\u001b[0;32m----> 1\u001b[0m driver\u001b[38;5;241m.\u001b[39mget(\u001b[38;5;124m'\u001b[39m\u001b[38;5;124mhttps://www.hometogo.es/\u001b[39m\u001b[38;5;124m'\u001b[39m)\n",
      "\u001b[0;31mNameError\u001b[0m: name 'driver' is not defined"
     ]
    }
   ],
   "source": [
    "driver.get('https://www.hometogo.es/')"
   ]
  }
 ],
 "metadata": {
  "kernelspec": {
   "display_name": "Python 3 (ipykernel)",
   "language": "python",
   "name": "python3"
  },
  "language_info": {
   "codemirror_mode": {
    "name": "ipython",
    "version": 3
   },
   "file_extension": ".py",
   "mimetype": "text/x-python",
   "name": "python",
   "nbconvert_exporter": "python",
   "pygments_lexer": "ipython3",
   "version": "3.11.3"
  }
 },
 "nbformat": 4,
 "nbformat_minor": 5
}
